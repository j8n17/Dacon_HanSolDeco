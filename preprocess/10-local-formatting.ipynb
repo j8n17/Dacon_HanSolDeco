{
 "cells": [
  {
   "cell_type": "code",
   "execution_count": 2,
   "metadata": {},
   "outputs": [],
   "source": [
    "import pandas as pd"
   ]
  },
  {
   "cell_type": "code",
   "execution_count": 51,
   "metadata": {},
   "outputs": [],
   "source": [
    "train_df = pd.read_csv('../data/train.csv', encoding = 'utf-8-sig')\n",
    "test_df = pd.read_csv('../data/test.csv', encoding = 'utf-8-sig')"
   ]
  },
  {
   "cell_type": "markdown",
   "metadata": {},
   "source": [
    "# Cleaning"
   ]
  },
  {
   "cell_type": "code",
   "execution_count": 52,
   "metadata": {},
   "outputs": [
    {
     "name": "stdout",
     "output_type": "stream",
     "text": [
      "=== Train Dataset Format Check ===\n",
      "\n",
      "공사종류 형식 검증:\n",
      "잘못된 형식 발견: 1건\n",
      "\n",
      "공종 형식 검증:\n",
      "잘못된 형식 발견: 10건\n",
      "\n",
      "사고객체 형식 검증:\n",
      "잘못된 형식 발견: 684건\n",
      "\n",
      "작업프로세스, 사고원인 NaN값 검증:\n",
      "NaN값 발견: 126건\n",
      "\n",
      "=== Test Dataset Format Check ===\n",
      "\n",
      "공사종류 형식 검증:\n",
      "모든 데이터가 올바른 형식입니다.\n",
      "\n",
      "공종 형식 검증:\n",
      "모든 데이터가 올바른 형식입니다.\n",
      "\n",
      "사고객체 형식 검증:\n",
      "잘못된 형식 발견: 1건\n",
      "710    NaN\n",
      "Name: 사고객체, dtype: object\n",
      "\n",
      "작업프로세스, 사고원인 NaN값 검증:\n",
      "NaN값이 없습니다.\n",
      "\n",
      "총 821개의 잘못된 형식 데이터가 error_train_df로 분리되었습니다.\n"
     ]
    }
   ],
   "source": [
    "# 데이터 형식 검증 및 에러 데이터 분리\n",
    "print(\"=== Train Dataset Format Check ===\")\n",
    "\n",
    "error_train_df = pd.DataFrame()\n",
    "\n",
    "# 공사종류 형식 검증 ('건축 / 건축물 / 근린생활시설' 형식)\n",
    "print(\"\\n공사종류 형식 검증:\")\n",
    "invalid_format = train_df[~train_df['공사종류'].str.contains(' / ', na=False)]\n",
    "if len(invalid_format) > 0:\n",
    "    print(f\"잘못된 형식 발견: {len(invalid_format)}건\")\n",
    "    error_train_df = pd.concat([error_train_df, invalid_format])\n",
    "    train_df = train_df[train_df['공사종류'].str.contains(' / ', na=False)]\n",
    "else:\n",
    "    print(\"모든 데이터가 올바른 형식입니다.\")\n",
    "\n",
    "# 공종 형식 검증 ('건축 > 가설공사' 형식) \n",
    "print(\"\\n공종 형식 검증:\")\n",
    "invalid_format = train_df[~train_df['공종'].str.contains(' > ', na=False)]\n",
    "if len(invalid_format) > 0:\n",
    "    print(f\"잘못된 형식 발견: {len(invalid_format)}건\")\n",
    "    error_train_df = pd.concat([error_train_df, invalid_format])\n",
    "    train_df = train_df[train_df['공종'].str.contains(' > ', na=False)]\n",
    "else:\n",
    "    print(\"모든 데이터가 올바른 형식입니다.\")\n",
    "\n",
    "# 사고객체 형식 검증 ('시설물 > 가설계단' 형식)\n",
    "print(\"\\n사고객체 형식 검증:\")\n",
    "invalid_format = train_df[~train_df['사고객체'].str.contains(' > ', na=False)]\n",
    "if len(invalid_format) > 0:\n",
    "    print(f\"잘못된 형식 발견: {len(invalid_format)}건\")\n",
    "    error_train_df = pd.concat([error_train_df, invalid_format])\n",
    "    train_df = train_df[train_df['사고객체'].str.contains(' > ', na=False)]\n",
    "else:\n",
    "    print(\"모든 데이터가 올바른 형식입니다.\")\n",
    "\n",
    "# 작업프로세스, 사고원인 NaN값 검증\n",
    "print(\"\\n작업프로세스, 사고원인 NaN값 검증:\")\n",
    "invalid_format = train_df[train_df['작업프로세스'].isna() | train_df['사고원인'].isna()]\n",
    "if len(invalid_format) > 0:\n",
    "    print(f\"NaN값 발견: {len(invalid_format)}건\")\n",
    "    error_train_df = pd.concat([error_train_df, invalid_format])\n",
    "    train_df = train_df[~(train_df['작업프로세스'].isna() | train_df['사고원인'].isna())]\n",
    "else:\n",
    "    print(\"NaN값이 없습니다.\")\n",
    "\n",
    "print(\"\\n=== Test Dataset Format Check ===\")\n",
    "\n",
    "# 공사종류 형식 검증\n",
    "print(\"\\n공사종류 형식 검증:\")\n",
    "invalid_format = test_df[~test_df['공사종류'].str.contains(' / ', na=False)]\n",
    "if len(invalid_format) > 0:\n",
    "    print(f\"잘못된 형식 발견: {len(invalid_format)}건\")\n",
    "else:\n",
    "    print(\"모든 데이터가 올바른 형식입니다.\")\n",
    "\n",
    "# 공종 형식 검증\n",
    "print(\"\\n공종 형식 검증:\")\n",
    "invalid_format = test_df[~test_df['공종'].str.contains(' > ', na=False)]\n",
    "if len(invalid_format) > 0:\n",
    "    print(f\"잘못된 형식 발견: {len(invalid_format)}건\")\n",
    "else:\n",
    "    print(\"모든 데이터가 올바른 형식입니다.\")\n",
    "\n",
    "# 사고객체 형식 검증\n",
    "print(\"\\n사고객체 형식 검증:\")\n",
    "invalid_format = test_df[~test_df['사고객체'].str.contains(' > ', na=False)]\n",
    "if len(invalid_format) > 0:\n",
    "    print(f\"잘못된 형식 발견: {len(invalid_format)}건\")\n",
    "    print(f\"{invalid_format['사고객체']}\")\n",
    "else:\n",
    "    print(\"모든 데이터가 올바른 형식입니다.\")\n",
    "\n",
    "# 작업프로세스, 사고원인 NaN값 검증 (test_df)\n",
    "print(\"\\n작업프로세스, 사고원인 NaN값 검증:\")\n",
    "invalid_format = test_df[test_df['작업프로세스'].isna() | test_df['사고원인'].isna()]\n",
    "if len(invalid_format) > 0:\n",
    "    print(f\"NaN값 발견: {len(invalid_format)}건\")\n",
    "else:\n",
    "    print(\"NaN값이 없습니다.\")\n",
    "\n",
    "# 중복 제거\n",
    "error_train_df = error_train_df.drop_duplicates()\n",
    "print(f\"\\n총 {len(error_train_df)}개의 잘못된 형식 데이터가 error_train_df로 분리되었습니다.\")\n",
    "\n",
    "# error train data\n",
    "error_train_df.to_csv('../data/error_train.csv', index=False)\n"
   ]
  },
  {
   "cell_type": "code",
   "execution_count": 53,
   "metadata": {},
   "outputs": [],
   "source": [
    "# train_df의 index 재정렬\n",
    "train_df = train_df.reset_index(drop=True)"
   ]
  },
  {
   "cell_type": "markdown",
   "metadata": {},
   "source": [
    "# Formatting"
   ]
  },
  {
   "cell_type": "code",
   "execution_count": 54,
   "metadata": {},
   "outputs": [],
   "source": [
    "# 데이터 전처리\n",
    "train_df['공사종류(대분류)'] = train_df['공사종류'].str.split(' / ').str[0]\n",
    "train_df['공사종류(중분류)'] = train_df['공사종류'].str.split(' / ').str[1]\n",
    "train_df['공종(대분류)'] = train_df['공종'].str.split(' > ').str[0]\n",
    "train_df['공종(중분류)'] = train_df['공종'].str.split(' > ').str[1]\n",
    "train_df['사고객체(대분류)'] = train_df['사고객체'].str.split(' > ').str[0]\n",
    "train_df['사고객체(중분류)'] = train_df['사고객체'].str.split(' > ').str[1]\n",
    "train_df['인적사고'] = train_df['인적사고'].apply(lambda x: '떨어짐' if isinstance(x, str) and '떨어짐' in x else x)\n",
    "train_df['인적사고'] = train_df['인적사고'].apply(lambda x: '넘어짐' if isinstance(x, str) and x == '넘어짐(기타)' else x)\n",
    "\n",
    "test_df['공사종류(대분류)'] = test_df['공사종류'].str.split(' / ').str[0]\n",
    "test_df['공사종류(중분류)'] = test_df['공사종류'].str.split(' / ').str[1]\n",
    "test_df['공종(대분류)'] = test_df['공종'].str.split(' > ').str[0]\n",
    "test_df['공종(중분류)'] = test_df['공종'].str.split(' > ').str[1]\n",
    "test_df['사고객체(대분류)'] = test_df['사고객체'].str.split(' > ').str[0]\n",
    "test_df['사고객체(중분류)'] = test_df['사고객체'].str.split(' > ').str[1]\n",
    "test_df['인적사고'] = test_df['인적사고'].apply(lambda x: '떨어짐' if '떨어짐' in x else x)\n",
    "test_df['인적사고'] = test_df['인적사고'].apply(lambda x: '넘어짐' if x == '넘어짐(기타)' else x)"
   ]
  },
  {
   "cell_type": "code",
   "execution_count": 55,
   "metadata": {},
   "outputs": [],
   "source": [
    "def category_template(row):\n",
    "    text = (\n",
    "        f\"{row['작업프로세스']} 중 \" \n",
    "        if (row['작업프로세스'] != '기타' and not pd.isna(row['작업프로세스']))\n",
    "        else \"\"\n",
    "    ) + (\n",
    "        f\"{row['사고객체(중분류)']} 관련 \" \n",
    "        if (row['사고객체(중분류)'] != '기타' and not pd.isna(row['사고객체(중분류)']) and not (row['사고객체(중분류)'] == '질병' and row['인적사고'] == '질병'))\n",
    "        else \"\"\n",
    "    ) + (\n",
    "        f\"{row['인적사고']} \" \n",
    "        if (row['인적사고'] not in ['기타', '분류불능', '없음'] and not pd.isna(row['인적사고']))\n",
    "        else \"\"\n",
    "    ) + (\n",
    "        f\"및 \" \n",
    "        if ((row['인적사고'] not in ['기타', '분류불능', '없음'] and not pd.isna(row['인적사고'])) and \n",
    "            (row['물적사고'] not in ['기타', '없음'] and not pd.isna(row['물적사고'])))\n",
    "        else \"\"\n",
    "    ) + (\n",
    "        f\"{row['물적사고']} \" \n",
    "        if (row['물적사고'] not in ['기타', '없음'] and not pd.isna(row['물적사고']))\n",
    "        else \"\"\n",
    "    )\n",
    "\n",
    "    return text"
   ]
  },
  {
   "cell_type": "code",
   "execution_count": 56,
   "metadata": {},
   "outputs": [],
   "source": [
    "train_df['category'] = train_df.apply(lambda x: category_template(x), axis=1)\n",
    "test_df['category'] = test_df.apply(lambda x: category_template(x), axis=1)\n",
    "\n",
    "train_df['category_exists'] = \"\"\n",
    "test_df['category_exists'] = \"\"\n",
    "\n",
    "train_df.loc[train_df['category']!=\"\", \"category_exists\"] = \"Y\"\n",
    "test_df.loc[test_df['category']!=\"\", \"category_exists\"] = \"Y\"\n",
    "\n",
    "train_df.loc[train_df['category']==\"\", \"category_exists\"] = \"N\"\n",
    "test_df.loc[test_df['category']==\"\", \"category_exists\"] = \"N\""
   ]
  },
  {
   "cell_type": "code",
   "execution_count": 57,
   "metadata": {},
   "outputs": [],
   "source": [
    "def description_template(row):\n",
    "    if row['category_exists'] == \"Y\":\n",
    "        text = row['category'] + f\"사고 ({row['사고원인']})\"\n",
    "    else:\n",
    "        text = row['사고원인']\n",
    "    return text\n",
    "\n",
    "# 훈련 데이터 통합 생성\n",
    "combined_training_data = train_df.apply(\n",
    "    lambda row: {\n",
    "        \"description\": description_template(row),\n",
    "        \"ground_truth\": row[\"재발방지대책 및 향후조치계획\"]\n",
    "    },\n",
    "    axis=1\n",
    ")\n",
    "\n",
    "# DataFrame으로 변환\n",
    "combined_training_data = pd.DataFrame(list(combined_training_data))"
   ]
  },
  {
   "cell_type": "code",
   "execution_count": 58,
   "metadata": {},
   "outputs": [],
   "source": [
    "# 테스트 데이터 통합 생성\n",
    "combined_test_data = test_df.apply(\n",
    "    lambda row: {\n",
    "        \"description\": description_template(row)\n",
    "    },\n",
    "    axis=1\n",
    ")\n",
    "\n",
    "# DataFrame으로 변환\n",
    "combined_test_data = pd.DataFrame(list(combined_test_data))"
   ]
  },
  {
   "cell_type": "code",
   "execution_count": 59,
   "metadata": {},
   "outputs": [],
   "source": [
    "train_df = train_df.assign(description=combined_training_data['description'])\n",
    "train_df = train_df.assign(ground_truth=combined_training_data['ground_truth'])\n",
    "\n",
    "test_df = test_df.assign(description=combined_test_data['description'])"
   ]
  },
  {
   "cell_type": "code",
   "execution_count": 60,
   "metadata": {},
   "outputs": [
    {
     "name": "stdout",
     "output_type": "stream",
     "text": [
      "Train Description의 NaN 개수: 0\n",
      "Train Answer의 NaN 개수: 0\n",
      "Test Description의 NaN 개수: 0\n"
     ]
    }
   ],
   "source": [
    "# NaN값 확인\n",
    "print(\"Train Description의 NaN 개수:\", train_df['description'].isna().sum())\n",
    "print(\"Train Answer의 NaN 개수:\", train_df['ground_truth'].isna().sum())\n",
    "\n",
    "print(\"Test Description의 NaN 개수:\", test_df['description'].isna().sum())\n"
   ]
  },
  {
   "cell_type": "code",
   "execution_count": 61,
   "metadata": {},
   "outputs": [],
   "source": [
    "train_df = train_df[['category_exists', 'description', 'ground_truth']]\n",
    "test_df = test_df[['category_exists', 'description']]"
   ]
  },
  {
   "cell_type": "code",
   "execution_count": 62,
   "metadata": {},
   "outputs": [],
   "source": [
    "train_df.to_csv('../data/train_01.csv', index_label='id')\n",
    "test_df.to_csv('../data/test_01.csv', index_label='id')"
   ]
  },
  {
   "cell_type": "code",
   "execution_count": null,
   "metadata": {},
   "outputs": [],
   "source": []
  }
 ],
 "metadata": {
  "kernelspec": {
   "display_name": "const_safety",
   "language": "python",
   "name": "python3"
  },
  "language_info": {
   "codemirror_mode": {
    "name": "ipython",
    "version": 3
   },
   "file_extension": ".py",
   "mimetype": "text/x-python",
   "name": "python",
   "nbconvert_exporter": "python",
   "pygments_lexer": "ipython3",
   "version": "3.9.21"
  }
 },
 "nbformat": 4,
 "nbformat_minor": 2
}
