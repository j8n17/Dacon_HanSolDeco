{
 "cells": [
  {
   "cell_type": "markdown",
   "metadata": {},
   "source": [
    "# 구조화 문장에서 사고원인 추출"
   ]
  },
  {
   "cell_type": "markdown",
   "metadata": {},
   "source": [
    "### 맞춤법 수정 결과 검증 prompt 준비"
   ]
  },
  {
   "cell_type": "code",
   "execution_count": 60,
   "metadata": {},
   "outputs": [],
   "source": [
    "import pandas as pd\n",
    "from utils import load_ollama, run_ollama, parallel_process_n\n",
    "import re\n",
    "import json\n",
    "from tqdm import tqdm\n",
    "tqdm.pandas()\n",
    "\n",
    "test_df = pd.read_csv('../data/test_03.csv')\n",
    "train_df = pd.read_csv('../data/train_03.csv')\n",
    "\n",
    "test_ce_df = test_df[test_df['category_exists']==\"Y\"]\n",
    "train_ce_df = train_df[train_df['category_exists']==\"Y\"]"
   ]
  },
  {
   "cell_type": "markdown",
   "metadata": {},
   "source": [
    "### json 형식 검증"
   ]
  },
  {
   "cell_type": "code",
   "execution_count": 61,
   "metadata": {},
   "outputs": [
    {
     "name": "stdout",
     "output_type": "stream",
     "text": [
      "True\n"
     ]
    }
   ],
   "source": [
    "llm_response = \"\"\"\n",
    "```json\n",
    "{\n",
    "  \"발생 배경\": \"test\",\n",
    "  \"사고 종류\": \"test\",\n",
    "  \"사고 원인\": \"test\"\n",
    "}\n",
    "```\n",
    "\"\"\"\n",
    "\n",
    "def is_valid_json_reason(text):\n",
    "    \"\"\"\n",
    "    주어진 텍스트 내의 ```json 코드 블록 내부 내용이 유효한 JSON 형식이며,\n",
    "    그 JSON 데이터에 '사고 원인' 키가 존재하면 True, 그렇지 않으면 False를 반환합니다.\n",
    "    \"\"\"\n",
    "    # 정규표현식을 사용하여 ```json과 ``` 사이의 내용 추출\n",
    "    match = re.search(r\"```json(.*?)```\", text, re.DOTALL)\n",
    "    if match:\n",
    "        json_str = match.group(1).strip()  # 양쪽 공백 제거\n",
    "        try:\n",
    "            data = json.loads(json_str)\n",
    "            # JSON 데이터가 딕셔너리이고 '사고 원인' 키가 존재하는지 확인\n",
    "            if isinstance(data, dict) and all(key in data and isinstance(data[key], str) for key in [\"사고 원인\", \"발생 배경\", \"사고 종류\"]):\n",
    "                return True\n",
    "            else:\n",
    "                return False\n",
    "        except json.JSONDecodeError:\n",
    "            return False\n",
    "    return False\n",
    "    \n",
    "print(is_valid_json_reason(llm_response))"
   ]
  },
  {
   "cell_type": "code",
   "execution_count": 62,
   "metadata": {},
   "outputs": [
    {
     "name": "stderr",
     "output_type": "stream",
     "text": [
      "/var/folders/5h/qkt17_v93197z8r0k03p5m2c0000gn/T/ipykernel_2414/231922822.py:1: SettingWithCopyWarning: \n",
      "A value is trying to be set on a copy of a slice from a DataFrame.\n",
      "Try using .loc[row_indexer,col_indexer] = value instead\n",
      "\n",
      "See the caveats in the documentation: https://pandas.pydata.org/pandas-docs/stable/user_guide/indexing.html#returning-a-view-versus-a-copy\n",
      "  test_ce_df['valid_json'] = test_ce_df['structured_json'].apply(lambda x: is_valid_json_reason(x))\n",
      "/var/folders/5h/qkt17_v93197z8r0k03p5m2c0000gn/T/ipykernel_2414/231922822.py:2: SettingWithCopyWarning: \n",
      "A value is trying to be set on a copy of a slice from a DataFrame.\n",
      "Try using .loc[row_indexer,col_indexer] = value instead\n",
      "\n",
      "See the caveats in the documentation: https://pandas.pydata.org/pandas-docs/stable/user_guide/indexing.html#returning-a-view-versus-a-copy\n",
      "  train_ce_df['valid_json'] = train_ce_df['structured_json'].apply(lambda x: is_valid_json_reason(x))\n"
     ]
    }
   ],
   "source": [
    "test_ce_df['valid_json'] = test_ce_df['structured_json'].apply(lambda x: is_valid_json_reason(x))\n",
    "train_ce_df['valid_json'] = train_ce_df['structured_json'].apply(lambda x: is_valid_json_reason(x))"
   ]
  },
  {
   "cell_type": "markdown",
   "metadata": {},
   "source": [
    "### 잘못된 형식 있는지 확인"
   ]
  },
  {
   "cell_type": "code",
   "execution_count": 63,
   "metadata": {},
   "outputs": [
    {
     "data": {
      "text/plain": [
       "['```json\\n{\\n  \"발생 배경\": \"지하 5층 기계실에서 냉각수 배관 설치 작업을 진행 중\",\\n  \"사고 종류\": \"자재 관련 물체에 의한 사고 (발판 낙하)\",\\n  \"사고 원인\": \"렌탈 장비로 내리던 중 렌탈 장비로 렌탈 장비로 렌탈 장비로 렌탈 장비로 렌탈 장비로 렌탈 장비로 렌탈 장비로 렌탈 장비로 렌탈 장비로 렌탈 장비로 렌탈 장비로 렌탈 장비로 렌탈 장비로 렌탈 장비로 렌탈 장비로 렌탈 장비로 렌탈 장비로 렌탈 장비로 렌탈 장비로 렌탈 장비로 렌탈 장비로 렌탈 장비로 렌탈 장비로 렌탈 장비로 렌탈 장비로 렌탈 장비로 렌탈 장비로 렌탈 장비로 렌탈 장비로 렌탈 장비로 렌탈 장비',\n",
       " '```json\\n{\\n  \"발생 배경\": \"운반작업 중\",\\n  \"사고 종류\": \"비계 관련 넘어짐 (미끄러짐)\",\\n  \"사고 원인\": \"미끄러운 곳을 이용하여 발판으로 사용, 미끄러운 곳을 이용하여 발판으로 사용, 미끄러운 곳을 이용하여 발판으로 사용, 미끄러운 곳을 이용하여 발판으로 사용, 미끄러운 곳을 이용하여 발판으로 사용, 미끄러운 곳을 이용하여 발판으로 사용, 미끄러운 곳을 이용하여 발판으로 사용, 미끄러운 곳을 이용하여 발판으로 사용, 미끄러운 곳을 이용하여 발판으로 사용, 미끄러운 곳을 이용하여 발판으로 사용, 미끄러운 곳을 이용하여 발판으로 사용, 미끄러운 곳을 이용하여 발판으로 사용, 미끄러운 곳을 이용하여 발판으로 사용, 미끄러운 곳을 이용하여 발판으로 사용, 미끄러운 곳을 이용하여 발판으로 사용, 미끄러운 곳을 이용하여 발판으로 사용, 미끄러운 곳을 이용하여 발판으로 사용, 미끄러운 곳을',\n",
       " '```json\\n{\\n  \"발생 배경\": \"마감 작업 중 고소 작업대 등 관련 떨어짐 사고\",\\n  \"사고 종류\": \"고소 작업대 등 관련 떨어짐 사고\",\\n  \"사고 원인\": [\\n    \"근로자의 불안전한 행동 : 작업 종료 시점 빠른 작업을 위하여, 렌탈 이동을 하지 않고 무리한 작업(렌탈문을 열어 팔을 뻗어 작업)\",\\n    \"안전 수칙 미준수 : 렌탈 탑승 중 안전 고리 미체결(안전벨트 착용 중)\",\\n    \"안전 의식 저하 : 연휴 전 마무리 작업 중 근로자 안전 의식 저하\"\\n  ]\\n}\\n```',\n",
       " '```json\\n{\\n  \"발생 배경\": \"준비 작업 중\",\\n  \"사고 종류\": \"굴착기 관련 물체에 맞음 사고\",\\n  \"사고 원인\": [\\n    \"오버랩 형상(용접 불량)\",\\n    \"용접면 내부 기공(porosity)\",\\n    \"작동 유로로 인해 내부 표면이 모재에 붙지 않아 매끈함\",\\n    \"전일 임의로 무자격자가 용접을 진행 및 실패한 상태로 농기계 센터에서 용접 비드를 제거하지 아니하고 재용접을 실시\"\\n  ]\\n}\\n```',\n",
       " '```json\\n{\\n  \"발생 배경\": \"정리작업 중\",\\n  \"사고 종류\": \"자재 관련 부딪힘 및 전도 사고\",\\n  \"사고 원인\": [\\n    \"굴착기 운전원의 착각에 의한 오동작\",\\n    \"철골보의 전도방지 조치 미흡\"\\n  ]\\n}\\n```',\n",
       " '```json\\n{\\n  \"발생 배경\": \"굴착 작업 중\",\\n  \"사고 종류\": \"흙막이 시설 관련 물체에 맞은 사고 (흙막이 가시설 토류판 설치 시 Top-Down 굴착 및 토류판 설치 시 Top-Down 굴착 및 토류판 설치 시 Top-Down 굴착 및 토류판 설치 시 Top-Down 굴착 및 토류판 설치 시 Top-Down 굴착 및 토류판 설치 시 Top-Down 굴착 및 토류판 설치 시 Top-Down 굴착 및 토류판 설치 시 Top-Down 굴착 및 토류판 설치 시 Top-Down 굴착 및 토류판 설치 시 Top-Down 굴착 및 토류판 설치 시 Top-Down 굴착 및 토류판 설치 시 Top-Down 굴착 및 토류판 설치 시 Top-Down 굴착 및 토류판 설치 시 Top-Down 굴착 및 토류판 설치 시 Top-Down 굴착 및 토류판 설치 시 Top-Down 굴착 및 토류판 설치 시 Top-Down 굴착 및 토류판 설치 시 Top-Down 굴',\n",
       " '제공된 텍스트는 반복되는 내용으로 구성되어 있어, 의미 있는 답변을 제공하기 어렵습니다. \\n\\n**문제점:**\\n\\n*   **반복:** \"W:32cm\"라는 내용이 계속 반복되어 의미가 명확하지 않습니다.\\n*   **맥락 부족:** 텍스트 자체만으로는 어떤 상황인지, 무엇에 대한 설명인지 알 수 없습니다.\\n\\n**가능한 해결 방법 (제공된 정보가 부족하므로 제한적입니다):**\\n\\n1.  **텍스트의 전체 내용 제공:** 텍스트의 전체 내용을 제공해주시면, 어떤 상황인지 파악하고 더 정확한 답변을 드릴 수 있습니다.\\n2.  **맥락 설명 요청:** 텍스트가 어떤 상황에서 사용되는지, 어떤 내용에 대한 설명인지 알려주시면, 그에 맞춰 답변을 제공할 수 있습니다. 예를 들어, \"이 텍스트는 어떤 제품의 사양을 설명하는 것인가?\", \"이 텍스트는 어떤 문제 해결을 위한 지침인가?\" 와 같이 질문해주시면 됩니다.\\n\\n**예시 (만약 텍스트가 특정 제품의 사양을 설명하는 것이라면):**\\n\\n\"W:32cm\"는',\n",
       " '```json\\n{\\n  \"발생 배경\": \"거푸집 조립 중인 구간을 재해자가 인지하지 못하고\",\\n  \"사고 종류\": \"거푸집 관련 박리 사고\",\\n  \"사고 원인\": \"거푸집 조립 중인 구간을 재해자가 인지하지 못하고, 거푸집 조립 중인 구간을 재해자가 인지하지 못하고, 거푸집 조립 중인 구간을 재해자가 인지하지 못하고, 거푸집 조립 중인 구간을 재해자가 인지하지 못하고, 거푸집 조립 중인 구간을 재해자가 인지하지 못하고, 거푸집 조립 중인 구간을 재해자가 인지하지 못하고, 거푸집 조립 중인 구간을 재해자가 인지하지 못하고, 거푸집 조립 중인 구간을 재해자가 인지하지 못하고, 거푸집 조립 중인 구간을 재해자가 인지하지 못하고, 거푸집 조립 중인 구간을 재해자가 인지하지 못하고, 거푸집 조립 중인 구간을 재해자가 인지하지 못하고, 거푸집',\n",
       " '```json\\n{\\n  \"발생 배경\": \"개거 거푸개거개거개거개거개거개거개거개거개거개거개거개거개거개거개거개거개거개거개거개거개거개거개거개거개거개거개거개거개거개거개거개거개거개거개거개거개거개거개거개거개거개거개거개거개거개거개거개거개거개거개거개거개거개거개거개거개거개거개거개거개거개거개거개거개거개거개거개거개거개거개거개거개거개거개거개거개거개거개거개거개거개거개거개거개거개거개거개거개거개거개거개거개거개거개거개거개거개거개거개거개거개거개거개거개거개거개거개거개거개거개거개거개거개거개거개거개거개거개거개거',\n",
       " '```json\\n{\\n  \"발생 배경\": \"설치작업 중\",\\n  \"사고 종류\": \"비계 관련 부딪힘 사고\",\\n  \"사고 원인\": [\\n    \"돌출된 비계 발판 식별 조치 미흡\",\\n    \"작업 중 예상 위험요소 도출 미흡, 안전의식 부족으로 인한 불안전한 행동\"\\n  ]\\n}\\n```',\n",
       " '```json\\n{\\n  \"발생 배경\": \"인양작업 중 창호 관련 물체에 맞은 사고\",\\n  \"사고 종류\": \"기계적, 물질, 환경적, 인적, 관리적 원인 발생\",\\n  \"사고 원인\": [\\n    \"인양물 하역 시 지붕 경사면 상부로 과하게 하역하여 거터부와의 이격거리가 많이 벌어짐 (기계적 원인)\",\\n    \"지붕 경사면에 자재를 하역할 수 밖에 없는 현장 여건 (물질, 환경적 원인)\",\\n    \"하역 중 근로자의 불안전한 위치 선점 및 반복작업에 의한 위험 요인 인지 부족 (인적 원인)\",\\n    \"작업 방법 및 안전 대책 수립 미흡 (관리적 원인)\"\\n  ]\\n}\\n```',\n",
       " '```json\\n{\\n  \"발생 배경\": \"설치작업 중\",\\n  \"사고 종류\": \"철근 관련 물체에 맞음 사고\",\\n  \"사고 원인\": [\\n    \"부재 해체 시 해체부재 처짐(튕김) 예방조치 미흡\",\\n    \"지조립된 부재를 상부로 인양 설치 시 치수가 맞지 않을 경우 하부로 내려서 수정하여야 하나 상부에서 작업 진행\",\\n    \"설치(해체) 방법에 대한 안전교육 미흡 - 미숙련 근로자 해체 작업 지원\",\\n    \"위험성평가(명일사전미팅) 시 Risk 도출 미흡\"\\n  ]\\n}\\n```']"
      ]
     },
     "execution_count": 63,
     "metadata": {},
     "output_type": "execute_result"
    }
   ],
   "source": [
    "train_ce_df[train_ce_df['valid_json']==False]['structured_json'].tolist()"
   ]
  },
  {
   "cell_type": "code",
   "execution_count": 64,
   "metadata": {},
   "outputs": [
    {
     "data": {
      "text/html": [
       "<div>\n",
       "<style scoped>\n",
       "    .dataframe tbody tr th:only-of-type {\n",
       "        vertical-align: middle;\n",
       "    }\n",
       "\n",
       "    .dataframe tbody tr th {\n",
       "        vertical-align: top;\n",
       "    }\n",
       "\n",
       "    .dataframe thead th {\n",
       "        text-align: right;\n",
       "    }\n",
       "</style>\n",
       "<table border=\"1\" class=\"dataframe\">\n",
       "  <thead>\n",
       "    <tr style=\"text-align: right;\">\n",
       "      <th></th>\n",
       "      <th>id</th>\n",
       "      <th>description</th>\n",
       "      <th>correct_description_prompt</th>\n",
       "      <th>correct_description</th>\n",
       "      <th>category_exists</th>\n",
       "      <th>structuring_prompt</th>\n",
       "      <th>structured_json</th>\n",
       "      <th>valid_json</th>\n",
       "    </tr>\n",
       "  </thead>\n",
       "  <tbody>\n",
       "  </tbody>\n",
       "</table>\n",
       "</div>"
      ],
      "text/plain": [
       "Empty DataFrame\n",
       "Columns: [id, description, correct_description_prompt, correct_description, category_exists, structuring_prompt, structured_json, valid_json]\n",
       "Index: []"
      ]
     },
     "execution_count": 64,
     "metadata": {},
     "output_type": "execute_result"
    }
   ],
   "source": [
    "test_ce_df[test_ce_df['valid_json']==False]"
   ]
  },
  {
   "cell_type": "markdown",
   "metadata": {},
   "source": [
    "### ~~적절한 문장 형식 나올 때까지 모델 응답 요청~~\n",
    "### 문장 형식 제대로 되어도 같은 단어 반복 오류 -> 삭제"
   ]
  },
  {
   "cell_type": "code",
   "execution_count": 65,
   "metadata": {},
   "outputs": [],
   "source": [
    "# chain = load_ollama(model=\"gemma3:4b\", temperature=1.0)\n",
    "\n",
    "# def find_proper_form(row):\n",
    "#     chain = load_ollama(model=\"gemma3:4b\", temperature=1.0, top_p=0.9, num_predict=256)\n",
    "#     print(row.id)\n",
    "#     answer = ''\n",
    "#     while not is_valid_json_reason(answer):\n",
    "#         answer = run_ollama(row['structuring_prompt'], chain)\n",
    "#     return answer\n",
    "\n",
    "# if len(test_ce_df[test_ce_df['valid_json']==False]) != 0:\n",
    "#     # test_ce_df.loc[test_ce_df['valid_json']==False, 'structured_description'] = test_ce_df[test_ce_df['valid_json']==False].progress_apply(lambda x: find_proper_form(x), axis=1)\n",
    "#     for idx, row in tqdm(test_ce_df[test_ce_df['valid_json'] == False].iterrows()):\n",
    "#         test_ce_df.loc[idx, 'structured_description'] = find_proper_form(row)\n",
    "#         test_ce_df.loc[idx, 'valid_json'] = True\n",
    "# if len(train_ce_df[train_ce_df['valid_json']==False]) != 0:\n",
    "#     # train_ce_df.loc[train_ce_df['valid_json']==False, 'structured_description'] = train_ce_df[train_ce_df['valid_json']==False].progress_apply(lambda x: find_proper_form(x), axis=1)\n",
    "#     # 'valid_json' 컬럼 값이 False인 행들만 선택하여 반복 처리\n",
    "#     for idx, row in tqdm(train_ce_df[train_ce_df['valid_json'] == False].iterrows()):\n",
    "#         train_ce_df.loc[idx, 'structured_description'] = find_proper_form(row)\n",
    "#         train_ce_df.loc[idx, 'valid_json'] = True"
   ]
  },
  {
   "cell_type": "code",
   "execution_count": 66,
   "metadata": {},
   "outputs": [
    {
     "data": {
      "text/plain": [
       "Index([603, 6058, 7850, 9282, 9685, 9861, 12790, 15830, 15896, 16742, 17845,\n",
       "       18697],\n",
       "      dtype='int64')"
      ]
     },
     "execution_count": 66,
     "metadata": {},
     "output_type": "execute_result"
    }
   ],
   "source": [
    "train_ce_df[train_ce_df['valid_json']==False].index"
   ]
  },
  {
   "cell_type": "code",
   "execution_count": 67,
   "metadata": {},
   "outputs": [],
   "source": [
    "# 그래도 안되는 행 삭제\n",
    "train_df = train_df.drop(train_ce_df[train_ce_df['valid_json']==False].index)\n",
    "test_df = test_df.drop(test_ce_df[test_ce_df['valid_json']==False].index)\n",
    "\n",
    "train_ce_df = train_ce_df.drop(train_ce_df[train_ce_df['valid_json']==False].index)\n",
    "test_ce_df = test_ce_df.drop(test_ce_df[test_ce_df['valid_json']==False].index)"
   ]
  },
  {
   "cell_type": "markdown",
   "metadata": {},
   "source": [
    "### 구조화 설명문 추출"
   ]
  },
  {
   "cell_type": "code",
   "execution_count": 68,
   "metadata": {},
   "outputs": [],
   "source": [
    "def make_structured_desription(json_text):\n",
    "    # 정규표현식을 사용하여 ```json과 ``` 사이의 내용을 추출\n",
    "    if type(json_text) != str:\n",
    "        return json_text\n",
    "    match = re.search(r\"```json(.*?)```\", json_text, re.DOTALL)\n",
    "    json_str = match.group(1).strip()  # 양쪽 공백 제거\n",
    "    data = json.loads(json_str)\n",
    "    text = f\"발생 배경: {data['발생 배경']}, 사고 종류: {data['사고 종류']}, 사고 원인: {data['사고 원인']}\"\n",
    "    return text\n",
    "\n",
    "test_df['structured_description'] = test_df['structured_json'].apply(make_structured_desription)\n",
    "train_df['structured_description'] = train_df['structured_json'].apply(make_structured_desription)"
   ]
  },
  {
   "cell_type": "code",
   "execution_count": 69,
   "metadata": {},
   "outputs": [],
   "source": [
    "test_df.loc[test_df['structured_description'].isna(), 'structured_description'] = test_df.loc[test_df['structured_description'].isna(), 'correct_description']\n",
    "train_df.loc[train_df['structured_description'].isna(), 'structured_description'] = train_df.loc[train_df['structured_description'].isna(), 'correct_description']"
   ]
  },
  {
   "cell_type": "markdown",
   "metadata": {},
   "source": [
    "### 구조화 설명문 및 사고원인 추출"
   ]
  },
  {
   "cell_type": "code",
   "execution_count": 70,
   "metadata": {},
   "outputs": [],
   "source": [
    "def extract_json(text):\n",
    "    # 정규표현식을 사용하여 ```json과 ``` 사이의 내용을 추출\n",
    "    match = re.search(r\"```json(.*?)```\", text, re.DOTALL)\n",
    "    json_str = match.group(1).strip()  # 양쪽 공백 제거\n",
    "    data = json.loads(json_str)         # JSON 문자열을 딕셔너리로 변환\n",
    "    return data.get(\"사고 원인\")         # '사고 원인' 키의 값을 반환\n",
    "\n",
    "test_df.loc[test_ce_df.index, 'reason'] = test_ce_df['structured_json'].apply(lambda x: extract_json(x))\n",
    "train_df.loc[train_ce_df.index, 'reason'] = train_ce_df['structured_json'].apply(lambda x: extract_json(x))"
   ]
  },
  {
   "cell_type": "code",
   "execution_count": 71,
   "metadata": {},
   "outputs": [],
   "source": [
    "# 사고 종류가 없는 데이터는 구조화 못했음. '사고원인' 텍스트 그대로 사용.\n",
    "test_df.loc[test_df['category_exists']==\"N\", 'reason'] = test_df.loc[test_df['category_exists']==\"N\", 'correct_description']\n",
    "train_df.loc[train_df['category_exists']==\"N\", 'reason'] = train_df.loc[train_df['category_exists']==\"N\", 'correct_description']"
   ]
  },
  {
   "cell_type": "code",
   "execution_count": 72,
   "metadata": {},
   "outputs": [],
   "source": [
    "train_df = train_df[~train_df['reason'].isna()]\n",
    "test_df = test_df[~test_df['reason'].isna()]"
   ]
  },
  {
   "cell_type": "code",
   "execution_count": 73,
   "metadata": {},
   "outputs": [],
   "source": [
    "test_df.to_csv('../data/test_04.csv', index=False)\n",
    "train_df.to_csv('../data/train_04.csv', index=False)"
   ]
  },
  {
   "cell_type": "code",
   "execution_count": null,
   "metadata": {},
   "outputs": [],
   "source": []
  }
 ],
 "metadata": {
  "kernelspec": {
   "display_name": "const_safety",
   "language": "python",
   "name": "python3"
  },
  "language_info": {
   "codemirror_mode": {
    "name": "ipython",
    "version": 3
   },
   "file_extension": ".py",
   "mimetype": "text/x-python",
   "name": "python",
   "nbconvert_exporter": "python",
   "pygments_lexer": "ipython3",
   "version": "3.9.21"
  }
 },
 "nbformat": 4,
 "nbformat_minor": 2
}
