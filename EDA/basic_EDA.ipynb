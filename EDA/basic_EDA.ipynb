{
 "cells": [
  {
   "cell_type": "code",
   "execution_count": 56,
   "metadata": {},
   "outputs": [],
   "source": [
    "import pandas as pd\n",
    "\n",
    "train_df = pd.read_csv('../data/train.csv', encoding='utf-8-sig')\n",
    "test_df = pd.read_csv('../data/test.csv', encoding='utf-8-sig')"
   ]
  },
  {
   "cell_type": "code",
   "execution_count": 3,
   "metadata": {},
   "outputs": [
    {
     "name": "stdout",
     "output_type": "stream",
     "text": [
      "각 컬럼별 NaN 값 개수:\n",
      "ID                    0\n",
      "발생일시                  0\n",
      "사고인지 시간               0\n",
      "날씨                    0\n",
      "기온                    0\n",
      "습도                    0\n",
      "연면적                   0\n",
      "층 정보                  0\n",
      "인적사고                 25\n",
      "물적사고               1145\n",
      "작업프로세스                0\n",
      "장소                    0\n",
      "부위                    0\n",
      "사고원인                  0\n",
      "재발방지대책 및 향후조치계획       0\n",
      "공사종류(대분류)             0\n",
      "공사종류(중분류)             0\n",
      "공종(대분류)               0\n",
      "공종(중분류)               0\n",
      "사고객체(대분류)             0\n",
      "사고객체(중분류)             0\n",
      "question              0\n",
      "answer                0\n",
      "dtype: int64\n",
      "\n",
      "전체 NaN 값이 있는 행의 수: 1170\n"
     ]
    }
   ],
   "source": [
    "# NaN 값 확인\n",
    "print(\"각 컬럼별 NaN 값 개수:\")\n",
    "print(train_df.isna().sum())\n",
    "\n",
    "print(\"\\n전체 NaN 값이 있는 행의 수:\", train_df.isna().any(axis=1).sum())"
   ]
  },
  {
   "cell_type": "markdown",
   "metadata": {},
   "source": [
    "# Nan 값 확인"
   ]
  },
  {
   "cell_type": "code",
   "execution_count": 14,
   "metadata": {},
   "outputs": [
    {
     "name": "stdout",
     "output_type": "stream",
     "text": [
      "각 컬럼별 NaN 값 개수 (test_df):\n",
      "ID           0\n",
      "발생일시         0\n",
      "사고인지 시간      0\n",
      "날씨           0\n",
      "기온           0\n",
      "습도           0\n",
      "연면적          0\n",
      "층 정보         0\n",
      "인적사고         0\n",
      "물적사고         0\n",
      "작업프로세스       0\n",
      "장소           0\n",
      "부위           0\n",
      "사고원인         0\n",
      "공사종류(대분류)    0\n",
      "공사종류(중분류)    0\n",
      "공종(대분류)      0\n",
      "공종(중분류)      0\n",
      "사고객체(대분류)    1\n",
      "사고객체(중분류)    1\n",
      "question     0\n",
      "dtype: int64\n",
      "\n",
      "전체 NaN 값이 있는 행의 수 (test_df): 1\n"
     ]
    }
   ],
   "source": [
    "# test_df의 NaN 값 확인\n",
    "print(\"각 컬럼별 NaN 값 개수 (test_df):\")\n",
    "print(test_df.isna().sum())\n",
    "\n",
    "print(\"\\n전체 NaN 값이 있는 행의 수 (test_df):\", test_df.isna().any(axis=1).sum())\n"
   ]
  },
  {
   "cell_type": "markdown",
   "metadata": {},
   "source": [
    "# 프롬프트 엔지니어링을 위한 컬럼값 확인"
   ]
  },
  {
   "cell_type": "code",
   "execution_count": 18,
   "metadata": {},
   "outputs": [
    {
     "name": "stdout",
     "output_type": "stream",
     "text": [
      "'공사종류' 대분류별 중분류:\n",
      "\n",
      "건축:\n",
      "['건축물']\n",
      "\n",
      "토목:\n",
      "['터널' '하천' '상하수도' '기타' '항만' '도로' '철도' '교량' '옹벽 및 절토사면' '공동구' '댐']\n",
      "\n",
      "조경:\n",
      "['공원' '숲' '기타' '정원' '생태공원']\n",
      "\n",
      "산업환경설비:\n",
      "['발전시설' '환경시설' '산업생산시설']\n",
      "\n",
      "'공종' 대분류별 중분류:\n",
      "\n",
      "건축:\n",
      "['철근콘크리트공사' '해체 및 철거공사' '타일 및 돌공사' '철골공사' '금속공사' '수장공사' '미장공사' '조적공사'\n",
      " '도장공사' '건축 토공사' '가설공사' '목공사' '지붕 및 홈통공사' '건축물 부대공사' '창호 및 유리공사' '방수공사'\n",
      " '지정공사' '조경공사' '특수 건축물공사' '지반조사']\n",
      "\n",
      "토목:\n",
      "['터널공사' '하천공사' '해체 및 철거공사' '가설공사' '토공사' '관공사 부대공사' '관공사' '말뚝공사' '항만공사'\n",
      " '교량공사' '철근콘크리트공사' '도로 및 포장공사' '철도 및 궤도공사' '강구조물공사' '지반개량공사' '댐 및 제방공사'\n",
      " '지반조사' '프리캐스트 콘크리트공사']\n",
      "\n",
      "기타:\n",
      "['기타']\n",
      "\n",
      "기계설비:\n",
      "['기계설비공사' '가설공사' '해체 및 철거공사']\n",
      "\n",
      "전기설비:\n",
      "['전기설비공사' '가설공사' '해체 및 철거공사']\n",
      "\n",
      "산업설비:\n",
      "['가설공사' '산업설비공사' '해체 및 철거공사']\n",
      "\n",
      "통신설비:\n",
      "['통신설비공사']\n",
      "\n",
      "'사고객체' 대분류별 중분류:\n",
      "\n",
      "건설자재:\n",
      "['철근' '볼트' '자재' '데크플레이트' '창호' '핀' '철망' '파형강판' '파이프서포트' '와이어로프' '덕트' '천정패널'\n",
      " '체인블럭' '선라이트' '레일']\n",
      "\n",
      "기타:\n",
      "['기타' '건설폐기물' '지하매설물' '차량' '작업대차' '비산물' '전주, 전선' '유증기']\n",
      "\n",
      "부재:\n",
      "['교각 기초' '개구부' '슬래브' '배관' '철골부재' '교량 바닥판' '거더' '벽체' '기성말뚝' '조적벽체' '트러스'\n",
      " '현장타설말뚝' 'PSC빔' '교대 기초' '강박스' '슬레이트']\n",
      "\n",
      "가시설:\n",
      "['시스템동바리' '거푸집' '비계' '작업발판' '흙막이가시설' '기타 가시설' '안전시설물' '지지대' '강관동바리' '가설계단'\n",
      " '띠장' '잭서포트' '가설도로' '버팀보' '특수거푸집(갱폼 등)' '지주가설재' '낙하물방지망' '복공판' '가새' '버팀대'\n",
      " '벽이음' '브라켓' '수평연결재' '방호선반' '지하벽체' '가물막이' '클라이밍콘' 'RCS발판' '엄지말뚝' '안전핀'\n",
      " '전도방지재']\n",
      "\n",
      "건설공구:\n",
      "['사다리' '공구류' '몰탈혼합기']\n",
      "\n",
      "질병:\n",
      "['질병']\n",
      "\n",
      "시설물:\n",
      "['건물' '옹벽' '방음벽' '담장' '위험물저장탱크' '석축' '보강토 옹벽' '돌담' '주탑' '터널 갱구부']\n",
      "\n",
      "건설기계:\n",
      "['특수건설기계' '굴착기' '롤러' '콘크리트펌프' '고소작업차(고소작업대 등)' '지게차' '덤프트럭' '항타 및 항발기'\n",
      " '천공기' '기중기(이동식크레인 등)' '타워크레인' '콘크리트믹서트럭' '준설선' '콘크리트살포기' '어스오거' '쇄석기'\n",
      " '불도저' '공기압축기' '모터그레이더' '로더' '콘크리트뱃칭플랜트' '골재살포기' '콘크리트피니셔' '아스팔트피니셔'\n",
      " '아스팔트살포기' '노상안정기']\n",
      "\n",
      "토사 및 암반:\n",
      "['지반' '절토사면' '부석' '굴착사면' '경사면' '터널 막장면' '벽돌' '성토사면' '암사면' '터널 천단부']\n"
     ]
    }
   ],
   "source": [
    "# 각 대분류별 중분류 값 확인\n",
    "print(\"'공사종류' 대분류별 중분류:\")\n",
    "for category in train_df['공사종류(대분류)'].unique():\n",
    "    mid_categories = train_df[train_df['공사종류(대분류)'] == category]['공사종류(중분류)'].unique()\n",
    "    print(f\"\\n{category}:\")\n",
    "    print(mid_categories)\n",
    "\n",
    "print(\"\\n'공종' 대분류별 중분류:\")\n",
    "for category in train_df['공종(대분류)'].unique():\n",
    "    mid_categories = train_df[train_df['공종(대분류)'] == category]['공종(중분류)'].unique()\n",
    "    print(f\"\\n{category}:\")\n",
    "    print(mid_categories)\n",
    "\n",
    "print(\"\\n'사고객체' 대분류별 중분류:\")\n",
    "for category in train_df['사고객체(대분류)'].unique():\n",
    "    mid_categories = train_df[train_df['사고객체(대분류)'] == category]['사고객체(중분류)'].unique()\n",
    "    print(f\"\\n{category}:\")\n",
    "    print(mid_categories)\n"
   ]
  },
  {
   "cell_type": "code",
   "execution_count": 19,
   "metadata": {},
   "outputs": [
    {
     "name": "stdout",
     "output_type": "stream",
     "text": [
      "'공사종류(대분류)' 별 '공종(대분류)':\n",
      "\n",
      "건축:\n",
      "['건축' '기타' '토목' '기계설비' '전기설비' '산업설비' '통신설비']\n",
      "\n",
      "토목:\n",
      "['토목' '기타' '건축' '기계설비' '산업설비' '통신설비' '전기설비']\n",
      "\n",
      "조경:\n",
      "['토목' '기타' '건축' '기계설비']\n",
      "\n",
      "산업환경설비:\n",
      "['기계설비' '건축' '산업설비' '토목' '전기설비' '기타']\n"
     ]
    }
   ],
   "source": [
    "# 각 '공사종류(대분류)' 별 '공종(대분류)' 확인\n",
    "print(\"'공사종류(대분류)' 별 '공종(대분류)':\")\n",
    "for category in train_df['공사종류(대분류)'].unique():\n",
    "    work_types = train_df[train_df['공사종류(대분류)'] == category]['공종(대분류)'].unique()\n",
    "    print(f\"\\n{category}:\")\n",
    "    print(work_types)\n"
   ]
  },
  {
   "cell_type": "code",
   "execution_count": 21,
   "metadata": {},
   "outputs": [
    {
     "name": "stdout",
     "output_type": "stream",
     "text": [
      "'작업프로세스' 유니크 값:\n",
      "['설치작업' '운반작업' '형틀 및 목공' '조립작업' '해체작업' '마감작업' '절단작업' '기타' '확인 및 점검작업'\n",
      " '청소작업' '준비작업' '굴착작업' '쌓기작업' '양중작업' '이동' '정리작업' '정비작업' '도장작업' '타설작업'\n",
      " '고소작업' '설비작업' '인발작업' '부설 및 다짐작업' '매설작업' '상차 및 하역작업' '반출작업' '항타 및 항발작업'\n",
      " '용접작업' '보수 및 교체작업' '천공작업' '인양작업' '전기작업' '장약 및 발파작업' '연결작업' '거치작업' '측량작업'\n",
      " '벌목작업' '양생작업' '절취작업' '적재작업' '물뿌리기 작업' '철근조립작업' '자재정리' '장비이동' '자재이동'\n",
      " '정지작업' '점검' '제거작업' '평탄작업' '철거작업' '작업장 출입' '고정작업' '돌붙임 및 줄눈 작업' '수정작업'\n",
      " '다짐작업' '교체작업' '토사하역' '전기배선작업']\n"
     ]
    }
   ],
   "source": [
    "# 작업프로세스 컬럼의 유니크 값 확인\n",
    "print(\"'작업프로세스' 유니크 값:\")\n",
    "print(train_df['작업프로세스'].unique())\n"
   ]
  },
  {
   "cell_type": "code",
   "execution_count": 24,
   "metadata": {},
   "outputs": [
    {
     "name": "stdout",
     "output_type": "stream",
     "text": [
      "'인적사고' 유니크 값:\n",
      "['떨어짐(5미터 이상 ~ 10미터 미만)' '끼임' '넘어짐(미끄러짐)' '기타' '물체에 맞음'\n",
      " '떨어짐(2미터 이상 ~ 3미터 미만)' '떨어짐(10미터 이상)' '넘어짐(기타)' '부딪힘' '넘어짐(물체에 걸림)'\n",
      " '떨어짐(2미터 미만)' '절단, 베임' '깔림' '질병' '떨어짐(3미터 이상 ~ 5미터 미만)' '화상' '분류불능' '찔림'\n",
      " '교통사고' '없음' nan '감전' '떨어짐(분류불능)' '질식']\n",
      "\n",
      "'물적사고' 유니크 값:\n",
      "['없음' '전도' '폭발' '파열,파단' '낙하' '기타' '탈락' '붕괴' '충돌' '화재' nan]\n",
      "\n",
      "'물적사고' None 값 비교:\n",
      "1145 개의 NaN 값이 있습니다.\n"
     ]
    }
   ],
   "source": [
    "print(\"'인적사고' 유니크 값:\")\n",
    "print(train_df['인적사고'].unique())\n",
    "print(\"\\n'물적사고' 유니크 값:\")\n",
    "print(train_df['물적사고'].unique())\n",
    "print(\"\\n'물적사고' None 값 비교:\")\n",
    "print(sum(train_df['물적사고'].isna()), \"개의 NaN 값이 있습니다.\")\n"
   ]
  },
  {
   "cell_type": "code",
   "execution_count": 16,
   "metadata": {},
   "outputs": [
    {
     "name": "stdout",
     "output_type": "stream",
     "text": [
      "[Train] 인적사고와 물적사고가 모두 없는 경우의 수: 96\n",
      "\n",
      "[Train] 해당 케이스의 예시:\n",
      "     인적사고 물적사고\n",
      "303    없음   없음\n",
      "1051  NaN   없음\n",
      "1774   없음   없음\n",
      "2408   없음   없음\n",
      "2599   없음   없음\n",
      "\n",
      "[Test] 인적사고와 물적사고가 모두 없는 경우의 수: 1\n",
      "\n",
      "[Test] 해당 케이스의 예시:\n",
      "    인적사고 물적사고\n",
      "523   없음   없음\n"
     ]
    }
   ],
   "source": [
    "# train_df에서 인적사고와 물적사고가 모두 nan이거나 '없음'인 경우 확인\n",
    "train_human_accident_missing = train_df['인적사고'].isna() | (train_df['인적사고'] == '없음')\n",
    "train_material_accident_missing = train_df['물적사고'].isna() | (train_df['물적사고'] == '없음')\n",
    "\n",
    "print(\"[Train] 인적사고와 물적사고가 모두 없는 경우의 수:\", sum(train_human_accident_missing & train_material_accident_missing))\n",
    "print(\"\\n[Train] 해당 케이스의 예시:\")\n",
    "print(train_df[train_human_accident_missing & train_material_accident_missing][['인적사고', '물적사고']].head())\n",
    "\n",
    "# test_df에서 인적사고와 물적사고가 모두 nan이거나 '없음'인 경우 확인\n",
    "test_human_accident_missing = test_df['인적사고'].isna() | (test_df['인적사고'] == '없음')\n",
    "test_material_accident_missing = test_df['물적사고'].isna() | (test_df['물적사고'] == '없음')\n",
    "\n",
    "print(\"\\n[Test] 인적사고와 물적사고가 모두 없는 경우의 수:\", sum(test_human_accident_missing & test_material_accident_missing))\n",
    "print(\"\\n[Test] 해당 케이스의 예시:\")\n",
    "print(test_df[test_human_accident_missing & test_material_accident_missing][['인적사고', '물적사고']].head())\n"
   ]
  },
  {
   "cell_type": "markdown",
   "metadata": {},
   "source": [
    "# 가장 긴 사고원인 텍스트"
   ]
  },
  {
   "cell_type": "code",
   "execution_count": 3,
   "metadata": {},
   "outputs": [
    {
     "name": "stdout",
     "output_type": "stream",
     "text": [
      "신청인의 요양급여신청 관련하여 사실에 근거하여 아래와 같이 보험가입자의견서를 작성하여 근로복지공단 통영지사에 제출함(첨부 보험가입자의견서 참조)1. 신청인이 당사현장에서 행한 업무는 작업내용도 단순하며 특별히 허리에 부담이 되지 않는 등 업무량이나 업무강도가 일용근로자들이 일반적으로 하는 정도에 불과할 뿐이었다는 점2. 신청인은 신호수 보조공으로서의 업무내용은 숙달된 신호수의 지시에 따라 크레인 작업시 인양물체 슬링벨트 설치 및 신호전달과 현장 정리정돈 등의 단순 보조업무만수행하였을 뿐, 특별히 허리에 부담이 가는 작업은 아니라는 점3. 신청인이 주장하는 상병은 장기간에 걸쳐서 서서히 발현된 전형적인 퇴행성(만성) 허리 질환의 일환임이 명백하고, 자연경과적인 퇴행성(진구성) 변화에 의한 기존질환인바당사 현장의 업무와의 인과관계를 인정할 수 없다는 점4. 신청인이 기존 질병을 “2019. 06.24. M5243 경추통,경흉추부” 은폐하고 경추통,경흉추부를 연계하여 허리에 통증을 느꼈다고 주장하며 마치 “요추의 염좌”가 현장에서 발생한업무상 사고라고 주장하고 있는 점5. 업무와 재해간의 상당인과관계에 대한 입증책임은 신청인에게 있음에도 불구하고, 신청인의 경우 본 사안과 관련하여 인과관계를 입증할 만한 객관적인 입증자료를 제출하지 못하고있다는 점 등의 여러 정황을 종합하여 볼 때 당사로서는 신청인이 주장하는 재해를 업무상 재해로 인정할 수 없다는 내용으로  보험가입자의견서를 근로복지공단 통영지사에 제출함\n"
     ]
    }
   ],
   "source": [
    "# 방법 1: 파이썬 내장 max() 함수와 key 인자 사용\n",
    "max_text = max(train_df['사고원인'], key=len)\n",
    "print(max_text)"
   ]
  },
  {
   "cell_type": "code",
   "execution_count": null,
   "metadata": {},
   "outputs": [],
   "source": []
  }
 ],
 "metadata": {
  "kernelspec": {
   "display_name": "const_safety",
   "language": "python",
   "name": "python3"
  },
  "language_info": {
   "codemirror_mode": {
    "name": "ipython",
    "version": 3
   },
   "file_extension": ".py",
   "mimetype": "text/x-python",
   "name": "python",
   "nbconvert_exporter": "python",
   "pygments_lexer": "ipython3",
   "version": "3.9.21"
  }
 },
 "nbformat": 4,
 "nbformat_minor": 2
}
