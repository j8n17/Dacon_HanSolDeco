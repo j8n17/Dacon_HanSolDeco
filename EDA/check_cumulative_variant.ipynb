{
 "cells": [
  {
   "cell_type": "markdown",
   "metadata": {},
   "source": [
    "# Train 정답 answer Embedding 변환 및 저장"
   ]
  },
  {
   "cell_type": "code",
   "execution_count": null,
   "metadata": {},
   "outputs": [],
   "source": [
    "from sentence_transformers import SentenceTransformer\n",
    "\n",
    "# 데이터 로드\n",
    "train_df = pd.read_csv('../data/train.csv', encoding='utf-8-sig')\n",
    "\n",
    "# 임베딩 모델 로드\n",
    "# embedding_model_name = \"jhgan/ko-sbert-sts\"\n",
    "embedding_model_name = \"upskyy/bge-m3-korean\"\n",
    "embedding_model = SentenceTransformer(embedding_model_name)\n",
    "\n",
    "# 정답 문장들\n",
    "true_answers = train_df['answer'].tolist()\n",
    "\n",
    "# 임베딩 생성\n",
    "true_embeddings = embedding_model.encode(true_answers)"
   ]
  },
  {
   "cell_type": "code",
   "execution_count": null,
   "metadata": {},
   "outputs": [
    {
     "data": {
      "text/plain": [
       "(22601, 1024)"
      ]
     },
     "metadata": {},
     "output_type": "display_data"
    }
   ],
   "source": [
    "import numpy as np\n",
    "np.save('../data/train_answer_embeddings.npy', true_embeddings)\n",
    "true_embeddings.shape"
   ]
  },
  {
   "cell_type": "code",
   "execution_count": null,
   "metadata": {},
   "outputs": [],
   "source": [
    "# 입력 문장들\n",
    "input_questions = train_df['question'].tolist()\n",
    "question_embeddings = embedding_model.encode(input_questions)"
   ]
  },
  {
   "cell_type": "code",
   "execution_count": null,
   "metadata": {},
   "outputs": [
    {
     "data": {
      "text/plain": [
       "(22601, 1024)"
      ]
     },
     "metadata": {},
     "output_type": "display_data"
    }
   ],
   "source": [
    "np.save('../data/train_question_embeddings.npy', question_embeddings)\n",
    "question_embeddings.shape"
   ]
  },
  {
   "cell_type": "markdown",
   "metadata": {},
   "source": [
    "# PCA 적정 주성분 개수 파악"
   ]
  },
  {
   "cell_type": "code",
   "execution_count": null,
   "metadata": {},
   "outputs": [
    {
     "data": {
      "image/png": "[encoded data removed]",
      "text/plain": [
       "<Figure size 800x500 with 1 Axes>"
      ]
     },
     "metadata": {},
     "output_type": "display_data"
    }
   ],
   "source": [
    "from sklearn.decomposition import PCA\n",
    "import matplotlib.pyplot as plt\n",
    "import numpy as np\n",
    "\n",
    "embeddings = np.load('../data/train_question_embeddings.npy')\n",
    "# 임베딩 벡터 정규화\n",
    "from sklearn.preprocessing import normalize\n",
    "embeddings = normalize(embeddings, norm='l2')\n",
    "\n",
    "pca = PCA()\n",
    "pca.fit(embeddings)\n",
    "\n",
    "embeddings = pca.transform(embeddings)\n",
    "embeddings = normalize(embeddings, norm='l2')\n",
    "\n",
    "# 각 주성분의 설명 분산 비율 확인\n",
    "explained_variance = pca.explained_variance_ratio_\n",
    "\n",
    "# 누적 설명 분산 비율 계산\n",
    "cumulative_variance = np.cumsum(explained_variance)\n",
    "\n",
    "# warning 제거\n",
    "import warnings\n",
    "warnings.filterwarnings('ignore')\n",
    "\n",
    "# 누적 설명 분산 비율 그래프로 시각화\n",
    "plt.figure(figsize=(8, 5))\n",
    "plt.plot(cumulative_variance, marker='o')\n",
    "plt.xlabel('주성분 개수')\n",
    "plt.ylabel('누적 설명 분산 비율')\n",
    "plt.title('PCA 누적 설명 분산 비율')\n",
    "plt.grid(True)\n",
    "plt.show()\n"
   ]
  },
  {
   "cell_type": "code",
   "execution_count": null,
   "metadata": {},
   "outputs": [
    {
     "name": "stdout",
     "output_type": "stream",
     "text": [
      "90%의 분산을 보존하기 위해 필요한 주성분 개수: 179\n",
      "95%의 분산을 보존하기 위해 필요한 주성분 개수: 258\n"
     ]
    }
   ],
   "source": [
    "# 90%와 95% 설명 분산 보존을 위한 주성분 수 결정\n",
    "n_components_90 = np.argmax(cumulative_variance >= 0.90) + 1\n",
    "n_components_95 = np.argmax(cumulative_variance >= 0.95) + 1\n",
    "\n",
    "print(\"90%의 분산을 보존하기 위해 필요한 주성분 개수:\", n_components_90)\n",
    "print(\"95%의 분산을 보존하기 위해 필요한 주성분 개수:\", n_components_95)"
   ]
  },
  {
   "cell_type": "code",
   "execution_count": null,
   "metadata": {},
   "outputs": [
    {
     "name": "stdout",
     "output_type": "stream",
     "text": [
      "pca 3개의 정보량: 0.14114822447299957\n"
     ]
    }
   ],
   "source": [
    "print(f\"pca 3개의 정보량: {cumulative_variance[2]}\")"
   ]
  }
 ],
 "metadata": {
  "language_info": {
   "name": "python"
  }
 },
 "nbformat": 4,
 "nbformat_minor": 2
}
